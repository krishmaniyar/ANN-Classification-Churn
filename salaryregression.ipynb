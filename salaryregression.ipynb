{
 "cells": [
  {
   "cell_type": "code",
   "metadata": {
    "ExecuteTime": {
     "end_time": "2025-10-27T04:30:05.510784Z",
     "start_time": "2025-10-27T04:30:04.750707Z"
    }
   },
   "source": [
    "import pandas as pd\n",
    "from sklearn.model_selection import train_test_split\n",
    "from sklearn.preprocessing import StandardScaler, LabelEncoder, OneHotEncoder\n",
    "import pickle"
   ],
   "outputs": [],
   "execution_count": 1
  },
  {
   "cell_type": "code",
   "metadata": {
    "ExecuteTime": {
     "end_time": "2025-10-27T04:30:05.542825Z",
     "start_time": "2025-10-27T04:30:05.519340Z"
    }
   },
   "source": [
    "data=pd.read_csv('Churn_Modelling.csv')\n",
    "data.head()"
   ],
   "outputs": [
    {
     "data": {
      "text/plain": [
       "   RowNumber  CustomerId   Surname  CreditScore Geography  Gender  Age  \\\n",
       "0          1    15634602  Hargrave          619    France  Female   42   \n",
       "1          2    15647311      Hill          608     Spain  Female   41   \n",
       "2          3    15619304      Onio          502    France  Female   42   \n",
       "3          4    15701354      Boni          699    France  Female   39   \n",
       "4          5    15737888  Mitchell          850     Spain  Female   43   \n",
       "\n",
       "   Tenure    Balance  NumOfProducts  HasCrCard  IsActiveMember  \\\n",
       "0       2       0.00              1          1               1   \n",
       "1       1   83807.86              1          0               1   \n",
       "2       8  159660.80              3          1               0   \n",
       "3       1       0.00              2          0               0   \n",
       "4       2  125510.82              1          1               1   \n",
       "\n",
       "   EstimatedSalary  Exited  \n",
       "0        101348.88       1  \n",
       "1        112542.58       0  \n",
       "2        113931.57       1  \n",
       "3         93826.63       0  \n",
       "4         79084.10       0  "
      ],
      "text/html": [
       "<div>\n",
       "<style scoped>\n",
       "    .dataframe tbody tr th:only-of-type {\n",
       "        vertical-align: middle;\n",
       "    }\n",
       "\n",
       "    .dataframe tbody tr th {\n",
       "        vertical-align: top;\n",
       "    }\n",
       "\n",
       "    .dataframe thead th {\n",
       "        text-align: right;\n",
       "    }\n",
       "</style>\n",
       "<table border=\"1\" class=\"dataframe\">\n",
       "  <thead>\n",
       "    <tr style=\"text-align: right;\">\n",
       "      <th></th>\n",
       "      <th>RowNumber</th>\n",
       "      <th>CustomerId</th>\n",
       "      <th>Surname</th>\n",
       "      <th>CreditScore</th>\n",
       "      <th>Geography</th>\n",
       "      <th>Gender</th>\n",
       "      <th>Age</th>\n",
       "      <th>Tenure</th>\n",
       "      <th>Balance</th>\n",
       "      <th>NumOfProducts</th>\n",
       "      <th>HasCrCard</th>\n",
       "      <th>IsActiveMember</th>\n",
       "      <th>EstimatedSalary</th>\n",
       "      <th>Exited</th>\n",
       "    </tr>\n",
       "  </thead>\n",
       "  <tbody>\n",
       "    <tr>\n",
       "      <th>0</th>\n",
       "      <td>1</td>\n",
       "      <td>15634602</td>\n",
       "      <td>Hargrave</td>\n",
       "      <td>619</td>\n",
       "      <td>France</td>\n",
       "      <td>Female</td>\n",
       "      <td>42</td>\n",
       "      <td>2</td>\n",
       "      <td>0.00</td>\n",
       "      <td>1</td>\n",
       "      <td>1</td>\n",
       "      <td>1</td>\n",
       "      <td>101348.88</td>\n",
       "      <td>1</td>\n",
       "    </tr>\n",
       "    <tr>\n",
       "      <th>1</th>\n",
       "      <td>2</td>\n",
       "      <td>15647311</td>\n",
       "      <td>Hill</td>\n",
       "      <td>608</td>\n",
       "      <td>Spain</td>\n",
       "      <td>Female</td>\n",
       "      <td>41</td>\n",
       "      <td>1</td>\n",
       "      <td>83807.86</td>\n",
       "      <td>1</td>\n",
       "      <td>0</td>\n",
       "      <td>1</td>\n",
       "      <td>112542.58</td>\n",
       "      <td>0</td>\n",
       "    </tr>\n",
       "    <tr>\n",
       "      <th>2</th>\n",
       "      <td>3</td>\n",
       "      <td>15619304</td>\n",
       "      <td>Onio</td>\n",
       "      <td>502</td>\n",
       "      <td>France</td>\n",
       "      <td>Female</td>\n",
       "      <td>42</td>\n",
       "      <td>8</td>\n",
       "      <td>159660.80</td>\n",
       "      <td>3</td>\n",
       "      <td>1</td>\n",
       "      <td>0</td>\n",
       "      <td>113931.57</td>\n",
       "      <td>1</td>\n",
       "    </tr>\n",
       "    <tr>\n",
       "      <th>3</th>\n",
       "      <td>4</td>\n",
       "      <td>15701354</td>\n",
       "      <td>Boni</td>\n",
       "      <td>699</td>\n",
       "      <td>France</td>\n",
       "      <td>Female</td>\n",
       "      <td>39</td>\n",
       "      <td>1</td>\n",
       "      <td>0.00</td>\n",
       "      <td>2</td>\n",
       "      <td>0</td>\n",
       "      <td>0</td>\n",
       "      <td>93826.63</td>\n",
       "      <td>0</td>\n",
       "    </tr>\n",
       "    <tr>\n",
       "      <th>4</th>\n",
       "      <td>5</td>\n",
       "      <td>15737888</td>\n",
       "      <td>Mitchell</td>\n",
       "      <td>850</td>\n",
       "      <td>Spain</td>\n",
       "      <td>Female</td>\n",
       "      <td>43</td>\n",
       "      <td>2</td>\n",
       "      <td>125510.82</td>\n",
       "      <td>1</td>\n",
       "      <td>1</td>\n",
       "      <td>1</td>\n",
       "      <td>79084.10</td>\n",
       "      <td>0</td>\n",
       "    </tr>\n",
       "  </tbody>\n",
       "</table>\n",
       "</div>"
      ]
     },
     "execution_count": 2,
     "metadata": {},
     "output_type": "execute_result"
    }
   ],
   "execution_count": 2
  },
  {
   "cell_type": "code",
   "metadata": {
    "ExecuteTime": {
     "end_time": "2025-10-27T04:30:05.645795Z",
     "start_time": "2025-10-27T04:30:05.641436Z"
    }
   },
   "source": [
    "# Preprocess the data\n",
    "data = data.drop(['RowNumber', 'CustomerId', 'Surname'], axis=1)"
   ],
   "outputs": [],
   "execution_count": 3
  },
  {
   "cell_type": "code",
   "metadata": {
    "ExecuteTime": {
     "end_time": "2025-10-27T04:30:05.767991Z",
     "start_time": "2025-10-27T04:30:05.764365Z"
    }
   },
   "source": [
    "# Encode categorical variables\n",
    "label_encoder_gender = LabelEncoder()\n",
    "data['Gender'] = label_encoder_gender.fit_transform(data['Gender'])"
   ],
   "outputs": [],
   "execution_count": 4
  },
  {
   "cell_type": "code",
   "metadata": {
    "ExecuteTime": {
     "end_time": "2025-10-27T04:30:05.841951Z",
     "start_time": "2025-10-27T04:30:05.834101Z"
    }
   },
   "source": [
    "data"
   ],
   "outputs": [
    {
     "data": {
      "text/plain": [
       "      CreditScore Geography  Gender  Age  Tenure    Balance  NumOfProducts  \\\n",
       "0             619    France       0   42       2       0.00              1   \n",
       "1             608     Spain       0   41       1   83807.86              1   \n",
       "2             502    France       0   42       8  159660.80              3   \n",
       "3             699    France       0   39       1       0.00              2   \n",
       "4             850     Spain       0   43       2  125510.82              1   \n",
       "...           ...       ...     ...  ...     ...        ...            ...   \n",
       "9995          771    France       1   39       5       0.00              2   \n",
       "9996          516    France       1   35      10   57369.61              1   \n",
       "9997          709    France       0   36       7       0.00              1   \n",
       "9998          772   Germany       1   42       3   75075.31              2   \n",
       "9999          792    France       0   28       4  130142.79              1   \n",
       "\n",
       "      HasCrCard  IsActiveMember  EstimatedSalary  Exited  \n",
       "0             1               1        101348.88       1  \n",
       "1             0               1        112542.58       0  \n",
       "2             1               0        113931.57       1  \n",
       "3             0               0         93826.63       0  \n",
       "4             1               1         79084.10       0  \n",
       "...         ...             ...              ...     ...  \n",
       "9995          1               0         96270.64       0  \n",
       "9996          1               1        101699.77       0  \n",
       "9997          0               1         42085.58       1  \n",
       "9998          1               0         92888.52       1  \n",
       "9999          1               0         38190.78       0  \n",
       "\n",
       "[10000 rows x 11 columns]"
      ],
      "text/html": [
       "<div>\n",
       "<style scoped>\n",
       "    .dataframe tbody tr th:only-of-type {\n",
       "        vertical-align: middle;\n",
       "    }\n",
       "\n",
       "    .dataframe tbody tr th {\n",
       "        vertical-align: top;\n",
       "    }\n",
       "\n",
       "    .dataframe thead th {\n",
       "        text-align: right;\n",
       "    }\n",
       "</style>\n",
       "<table border=\"1\" class=\"dataframe\">\n",
       "  <thead>\n",
       "    <tr style=\"text-align: right;\">\n",
       "      <th></th>\n",
       "      <th>CreditScore</th>\n",
       "      <th>Geography</th>\n",
       "      <th>Gender</th>\n",
       "      <th>Age</th>\n",
       "      <th>Tenure</th>\n",
       "      <th>Balance</th>\n",
       "      <th>NumOfProducts</th>\n",
       "      <th>HasCrCard</th>\n",
       "      <th>IsActiveMember</th>\n",
       "      <th>EstimatedSalary</th>\n",
       "      <th>Exited</th>\n",
       "    </tr>\n",
       "  </thead>\n",
       "  <tbody>\n",
       "    <tr>\n",
       "      <th>0</th>\n",
       "      <td>619</td>\n",
       "      <td>France</td>\n",
       "      <td>0</td>\n",
       "      <td>42</td>\n",
       "      <td>2</td>\n",
       "      <td>0.00</td>\n",
       "      <td>1</td>\n",
       "      <td>1</td>\n",
       "      <td>1</td>\n",
       "      <td>101348.88</td>\n",
       "      <td>1</td>\n",
       "    </tr>\n",
       "    <tr>\n",
       "      <th>1</th>\n",
       "      <td>608</td>\n",
       "      <td>Spain</td>\n",
       "      <td>0</td>\n",
       "      <td>41</td>\n",
       "      <td>1</td>\n",
       "      <td>83807.86</td>\n",
       "      <td>1</td>\n",
       "      <td>0</td>\n",
       "      <td>1</td>\n",
       "      <td>112542.58</td>\n",
       "      <td>0</td>\n",
       "    </tr>\n",
       "    <tr>\n",
       "      <th>2</th>\n",
       "      <td>502</td>\n",
       "      <td>France</td>\n",
       "      <td>0</td>\n",
       "      <td>42</td>\n",
       "      <td>8</td>\n",
       "      <td>159660.80</td>\n",
       "      <td>3</td>\n",
       "      <td>1</td>\n",
       "      <td>0</td>\n",
       "      <td>113931.57</td>\n",
       "      <td>1</td>\n",
       "    </tr>\n",
       "    <tr>\n",
       "      <th>3</th>\n",
       "      <td>699</td>\n",
       "      <td>France</td>\n",
       "      <td>0</td>\n",
       "      <td>39</td>\n",
       "      <td>1</td>\n",
       "      <td>0.00</td>\n",
       "      <td>2</td>\n",
       "      <td>0</td>\n",
       "      <td>0</td>\n",
       "      <td>93826.63</td>\n",
       "      <td>0</td>\n",
       "    </tr>\n",
       "    <tr>\n",
       "      <th>4</th>\n",
       "      <td>850</td>\n",
       "      <td>Spain</td>\n",
       "      <td>0</td>\n",
       "      <td>43</td>\n",
       "      <td>2</td>\n",
       "      <td>125510.82</td>\n",
       "      <td>1</td>\n",
       "      <td>1</td>\n",
       "      <td>1</td>\n",
       "      <td>79084.10</td>\n",
       "      <td>0</td>\n",
       "    </tr>\n",
       "    <tr>\n",
       "      <th>...</th>\n",
       "      <td>...</td>\n",
       "      <td>...</td>\n",
       "      <td>...</td>\n",
       "      <td>...</td>\n",
       "      <td>...</td>\n",
       "      <td>...</td>\n",
       "      <td>...</td>\n",
       "      <td>...</td>\n",
       "      <td>...</td>\n",
       "      <td>...</td>\n",
       "      <td>...</td>\n",
       "    </tr>\n",
       "    <tr>\n",
       "      <th>9995</th>\n",
       "      <td>771</td>\n",
       "      <td>France</td>\n",
       "      <td>1</td>\n",
       "      <td>39</td>\n",
       "      <td>5</td>\n",
       "      <td>0.00</td>\n",
       "      <td>2</td>\n",
       "      <td>1</td>\n",
       "      <td>0</td>\n",
       "      <td>96270.64</td>\n",
       "      <td>0</td>\n",
       "    </tr>\n",
       "    <tr>\n",
       "      <th>9996</th>\n",
       "      <td>516</td>\n",
       "      <td>France</td>\n",
       "      <td>1</td>\n",
       "      <td>35</td>\n",
       "      <td>10</td>\n",
       "      <td>57369.61</td>\n",
       "      <td>1</td>\n",
       "      <td>1</td>\n",
       "      <td>1</td>\n",
       "      <td>101699.77</td>\n",
       "      <td>0</td>\n",
       "    </tr>\n",
       "    <tr>\n",
       "      <th>9997</th>\n",
       "      <td>709</td>\n",
       "      <td>France</td>\n",
       "      <td>0</td>\n",
       "      <td>36</td>\n",
       "      <td>7</td>\n",
       "      <td>0.00</td>\n",
       "      <td>1</td>\n",
       "      <td>0</td>\n",
       "      <td>1</td>\n",
       "      <td>42085.58</td>\n",
       "      <td>1</td>\n",
       "    </tr>\n",
       "    <tr>\n",
       "      <th>9998</th>\n",
       "      <td>772</td>\n",
       "      <td>Germany</td>\n",
       "      <td>1</td>\n",
       "      <td>42</td>\n",
       "      <td>3</td>\n",
       "      <td>75075.31</td>\n",
       "      <td>2</td>\n",
       "      <td>1</td>\n",
       "      <td>0</td>\n",
       "      <td>92888.52</td>\n",
       "      <td>1</td>\n",
       "    </tr>\n",
       "    <tr>\n",
       "      <th>9999</th>\n",
       "      <td>792</td>\n",
       "      <td>France</td>\n",
       "      <td>0</td>\n",
       "      <td>28</td>\n",
       "      <td>4</td>\n",
       "      <td>130142.79</td>\n",
       "      <td>1</td>\n",
       "      <td>1</td>\n",
       "      <td>0</td>\n",
       "      <td>38190.78</td>\n",
       "      <td>0</td>\n",
       "    </tr>\n",
       "  </tbody>\n",
       "</table>\n",
       "<p>10000 rows × 11 columns</p>\n",
       "</div>"
      ]
     },
     "execution_count": 5,
     "metadata": {},
     "output_type": "execute_result"
    }
   ],
   "execution_count": 5
  },
  {
   "cell_type": "code",
   "metadata": {
    "ExecuteTime": {
     "end_time": "2025-10-27T04:30:05.967238Z",
     "start_time": "2025-10-27T04:30:05.957953Z"
    }
   },
   "source": [
    "# One-hot encode 'Geography'\n",
    "onehot_encoder_geo = OneHotEncoder(handle_unknown='ignore')\n",
    "geo_encoded = onehot_encoder_geo.fit_transform(data[['Geography']]).toarray()\n",
    "geo_encoded_df = pd.DataFrame(geo_encoded, columns=onehot_encoder_geo.get_feature_names_out(['Geography']))\n",
    "geo_encoded_df\n"
   ],
   "outputs": [
    {
     "data": {
      "text/plain": [
       "      Geography_France  Geography_Germany  Geography_Spain\n",
       "0                  1.0                0.0              0.0\n",
       "1                  0.0                0.0              1.0\n",
       "2                  1.0                0.0              0.0\n",
       "3                  1.0                0.0              0.0\n",
       "4                  0.0                0.0              1.0\n",
       "...                ...                ...              ...\n",
       "9995               1.0                0.0              0.0\n",
       "9996               1.0                0.0              0.0\n",
       "9997               1.0                0.0              0.0\n",
       "9998               0.0                1.0              0.0\n",
       "9999               1.0                0.0              0.0\n",
       "\n",
       "[10000 rows x 3 columns]"
      ],
      "text/html": [
       "<div>\n",
       "<style scoped>\n",
       "    .dataframe tbody tr th:only-of-type {\n",
       "        vertical-align: middle;\n",
       "    }\n",
       "\n",
       "    .dataframe tbody tr th {\n",
       "        vertical-align: top;\n",
       "    }\n",
       "\n",
       "    .dataframe thead th {\n",
       "        text-align: right;\n",
       "    }\n",
       "</style>\n",
       "<table border=\"1\" class=\"dataframe\">\n",
       "  <thead>\n",
       "    <tr style=\"text-align: right;\">\n",
       "      <th></th>\n",
       "      <th>Geography_France</th>\n",
       "      <th>Geography_Germany</th>\n",
       "      <th>Geography_Spain</th>\n",
       "    </tr>\n",
       "  </thead>\n",
       "  <tbody>\n",
       "    <tr>\n",
       "      <th>0</th>\n",
       "      <td>1.0</td>\n",
       "      <td>0.0</td>\n",
       "      <td>0.0</td>\n",
       "    </tr>\n",
       "    <tr>\n",
       "      <th>1</th>\n",
       "      <td>0.0</td>\n",
       "      <td>0.0</td>\n",
       "      <td>1.0</td>\n",
       "    </tr>\n",
       "    <tr>\n",
       "      <th>2</th>\n",
       "      <td>1.0</td>\n",
       "      <td>0.0</td>\n",
       "      <td>0.0</td>\n",
       "    </tr>\n",
       "    <tr>\n",
       "      <th>3</th>\n",
       "      <td>1.0</td>\n",
       "      <td>0.0</td>\n",
       "      <td>0.0</td>\n",
       "    </tr>\n",
       "    <tr>\n",
       "      <th>4</th>\n",
       "      <td>0.0</td>\n",
       "      <td>0.0</td>\n",
       "      <td>1.0</td>\n",
       "    </tr>\n",
       "    <tr>\n",
       "      <th>...</th>\n",
       "      <td>...</td>\n",
       "      <td>...</td>\n",
       "      <td>...</td>\n",
       "    </tr>\n",
       "    <tr>\n",
       "      <th>9995</th>\n",
       "      <td>1.0</td>\n",
       "      <td>0.0</td>\n",
       "      <td>0.0</td>\n",
       "    </tr>\n",
       "    <tr>\n",
       "      <th>9996</th>\n",
       "      <td>1.0</td>\n",
       "      <td>0.0</td>\n",
       "      <td>0.0</td>\n",
       "    </tr>\n",
       "    <tr>\n",
       "      <th>9997</th>\n",
       "      <td>1.0</td>\n",
       "      <td>0.0</td>\n",
       "      <td>0.0</td>\n",
       "    </tr>\n",
       "    <tr>\n",
       "      <th>9998</th>\n",
       "      <td>0.0</td>\n",
       "      <td>1.0</td>\n",
       "      <td>0.0</td>\n",
       "    </tr>\n",
       "    <tr>\n",
       "      <th>9999</th>\n",
       "      <td>1.0</td>\n",
       "      <td>0.0</td>\n",
       "      <td>0.0</td>\n",
       "    </tr>\n",
       "  </tbody>\n",
       "</table>\n",
       "<p>10000 rows × 3 columns</p>\n",
       "</div>"
      ]
     },
     "execution_count": 6,
     "metadata": {},
     "output_type": "execute_result"
    }
   ],
   "execution_count": 6
  },
  {
   "cell_type": "code",
   "metadata": {
    "ExecuteTime": {
     "end_time": "2025-10-27T04:30:06.586711Z",
     "start_time": "2025-10-27T04:30:06.576331Z"
    }
   },
   "source": [
    "# Combine one-hot encoded columns with original data\n",
    "data = pd.concat([data.drop('Geography', axis=1), geo_encoded_df], axis=1)\n",
    "data.head()"
   ],
   "outputs": [
    {
     "data": {
      "text/plain": [
       "   CreditScore  Gender  Age  Tenure    Balance  NumOfProducts  HasCrCard  \\\n",
       "0          619       0   42       2       0.00              1          1   \n",
       "1          608       0   41       1   83807.86              1          0   \n",
       "2          502       0   42       8  159660.80              3          1   \n",
       "3          699       0   39       1       0.00              2          0   \n",
       "4          850       0   43       2  125510.82              1          1   \n",
       "\n",
       "   IsActiveMember  EstimatedSalary  Exited  Geography_France  \\\n",
       "0               1        101348.88       1               1.0   \n",
       "1               1        112542.58       0               0.0   \n",
       "2               0        113931.57       1               1.0   \n",
       "3               0         93826.63       0               1.0   \n",
       "4               1         79084.10       0               0.0   \n",
       "\n",
       "   Geography_Germany  Geography_Spain  \n",
       "0                0.0              0.0  \n",
       "1                0.0              1.0  \n",
       "2                0.0              0.0  \n",
       "3                0.0              0.0  \n",
       "4                0.0              1.0  "
      ],
      "text/html": [
       "<div>\n",
       "<style scoped>\n",
       "    .dataframe tbody tr th:only-of-type {\n",
       "        vertical-align: middle;\n",
       "    }\n",
       "\n",
       "    .dataframe tbody tr th {\n",
       "        vertical-align: top;\n",
       "    }\n",
       "\n",
       "    .dataframe thead th {\n",
       "        text-align: right;\n",
       "    }\n",
       "</style>\n",
       "<table border=\"1\" class=\"dataframe\">\n",
       "  <thead>\n",
       "    <tr style=\"text-align: right;\">\n",
       "      <th></th>\n",
       "      <th>CreditScore</th>\n",
       "      <th>Gender</th>\n",
       "      <th>Age</th>\n",
       "      <th>Tenure</th>\n",
       "      <th>Balance</th>\n",
       "      <th>NumOfProducts</th>\n",
       "      <th>HasCrCard</th>\n",
       "      <th>IsActiveMember</th>\n",
       "      <th>EstimatedSalary</th>\n",
       "      <th>Exited</th>\n",
       "      <th>Geography_France</th>\n",
       "      <th>Geography_Germany</th>\n",
       "      <th>Geography_Spain</th>\n",
       "    </tr>\n",
       "  </thead>\n",
       "  <tbody>\n",
       "    <tr>\n",
       "      <th>0</th>\n",
       "      <td>619</td>\n",
       "      <td>0</td>\n",
       "      <td>42</td>\n",
       "      <td>2</td>\n",
       "      <td>0.00</td>\n",
       "      <td>1</td>\n",
       "      <td>1</td>\n",
       "      <td>1</td>\n",
       "      <td>101348.88</td>\n",
       "      <td>1</td>\n",
       "      <td>1.0</td>\n",
       "      <td>0.0</td>\n",
       "      <td>0.0</td>\n",
       "    </tr>\n",
       "    <tr>\n",
       "      <th>1</th>\n",
       "      <td>608</td>\n",
       "      <td>0</td>\n",
       "      <td>41</td>\n",
       "      <td>1</td>\n",
       "      <td>83807.86</td>\n",
       "      <td>1</td>\n",
       "      <td>0</td>\n",
       "      <td>1</td>\n",
       "      <td>112542.58</td>\n",
       "      <td>0</td>\n",
       "      <td>0.0</td>\n",
       "      <td>0.0</td>\n",
       "      <td>1.0</td>\n",
       "    </tr>\n",
       "    <tr>\n",
       "      <th>2</th>\n",
       "      <td>502</td>\n",
       "      <td>0</td>\n",
       "      <td>42</td>\n",
       "      <td>8</td>\n",
       "      <td>159660.80</td>\n",
       "      <td>3</td>\n",
       "      <td>1</td>\n",
       "      <td>0</td>\n",
       "      <td>113931.57</td>\n",
       "      <td>1</td>\n",
       "      <td>1.0</td>\n",
       "      <td>0.0</td>\n",
       "      <td>0.0</td>\n",
       "    </tr>\n",
       "    <tr>\n",
       "      <th>3</th>\n",
       "      <td>699</td>\n",
       "      <td>0</td>\n",
       "      <td>39</td>\n",
       "      <td>1</td>\n",
       "      <td>0.00</td>\n",
       "      <td>2</td>\n",
       "      <td>0</td>\n",
       "      <td>0</td>\n",
       "      <td>93826.63</td>\n",
       "      <td>0</td>\n",
       "      <td>1.0</td>\n",
       "      <td>0.0</td>\n",
       "      <td>0.0</td>\n",
       "    </tr>\n",
       "    <tr>\n",
       "      <th>4</th>\n",
       "      <td>850</td>\n",
       "      <td>0</td>\n",
       "      <td>43</td>\n",
       "      <td>2</td>\n",
       "      <td>125510.82</td>\n",
       "      <td>1</td>\n",
       "      <td>1</td>\n",
       "      <td>1</td>\n",
       "      <td>79084.10</td>\n",
       "      <td>0</td>\n",
       "      <td>0.0</td>\n",
       "      <td>0.0</td>\n",
       "      <td>1.0</td>\n",
       "    </tr>\n",
       "  </tbody>\n",
       "</table>\n",
       "</div>"
      ]
     },
     "execution_count": 7,
     "metadata": {},
     "output_type": "execute_result"
    }
   ],
   "execution_count": 7
  },
  {
   "cell_type": "code",
   "metadata": {
    "ExecuteTime": {
     "end_time": "2025-10-27T04:30:06.685140Z",
     "start_time": "2025-10-27T04:30:06.682213Z"
    }
   },
   "source": [
    "# Split the data into features and target\n",
    "X = data.drop('EstimatedSalary', axis=1)\n",
    "y = data['EstimatedSalary']"
   ],
   "outputs": [],
   "execution_count": 8
  },
  {
   "cell_type": "code",
   "metadata": {
    "ExecuteTime": {
     "end_time": "2025-10-27T04:30:06.806981Z",
     "start_time": "2025-10-27T04:30:06.802767Z"
    }
   },
   "source": [
    "## Split the data in training and tetsing sets\n",
    "X_train,X_test,y_train,y_test=train_test_split(X,y,test_size=0.2,random_state=42)"
   ],
   "outputs": [],
   "execution_count": 9
  },
  {
   "cell_type": "code",
   "metadata": {
    "ExecuteTime": {
     "end_time": "2025-10-27T04:30:06.870991Z",
     "start_time": "2025-10-27T04:30:06.861989Z"
    }
   },
   "source": [
    "## Scale these features\n",
    "scaler=StandardScaler()\n",
    "X_train=scaler.fit_transform(X_train)\n",
    "X_test=scaler.transform(X_test)"
   ],
   "outputs": [],
   "execution_count": 10
  },
  {
   "cell_type": "code",
   "metadata": {
    "ExecuteTime": {
     "end_time": "2025-10-27T04:30:06.919045Z",
     "start_time": "2025-10-27T04:30:06.915690Z"
    }
   },
   "source": [
    "# Save the encoders and scaler for later use\n",
    "with open('label_encoder_gender.pkl', 'wb') as file:\n",
    "    pickle.dump(label_encoder_gender, file)\n",
    "\n",
    "with open('onehot_encoder_geo.pkl', 'wb') as file:\n",
    "    pickle.dump(onehot_encoder_geo, file)\n",
    "\n",
    "with open('scaler.pkl', 'wb') as file:\n",
    "    pickle.dump(scaler, file)"
   ],
   "outputs": [],
   "execution_count": 11
  },
  {
   "cell_type": "markdown",
   "metadata": {},
   "source": [
    "#### ANN Regression Problem statement"
   ]
  },
  {
   "cell_type": "code",
   "metadata": {
    "ExecuteTime": {
     "end_time": "2025-10-27T04:30:08.709785Z",
     "start_time": "2025-10-27T04:30:06.968171Z"
    }
   },
   "source": [
    "import tensorflow as tf\n",
    "from tensorflow.keras.models import Sequential\n",
    "from tensorflow.keras.layers import Dense"
   ],
   "outputs": [
    {
     "name": "stderr",
     "output_type": "stream",
     "text": [
      "2025-10-27 10:00:07.202812: I external/local_tsl/tsl/cuda/cudart_stub.cc:31] Could not find cuda drivers on your machine, GPU will not be used.\n",
      "2025-10-27 10:00:07.232594: E external/local_xla/xla/stream_executor/cuda/cuda_dnn.cc:9261] Unable to register cuDNN factory: Attempting to register factory for plugin cuDNN when one has already been registered\n",
      "2025-10-27 10:00:07.232627: E external/local_xla/xla/stream_executor/cuda/cuda_fft.cc:607] Unable to register cuFFT factory: Attempting to register factory for plugin cuFFT when one has already been registered\n",
      "2025-10-27 10:00:07.234107: E external/local_xla/xla/stream_executor/cuda/cuda_blas.cc:1515] Unable to register cuBLAS factory: Attempting to register factory for plugin cuBLAS when one has already been registered\n",
      "2025-10-27 10:00:07.241837: I external/local_tsl/tsl/cuda/cudart_stub.cc:31] Could not find cuda drivers on your machine, GPU will not be used.\n",
      "2025-10-27 10:00:07.243050: I tensorflow/core/platform/cpu_feature_guard.cc:182] This TensorFlow binary is optimized to use available CPU instructions in performance-critical operations.\n",
      "To enable the following instructions: AVX2 FMA, in other operations, rebuild TensorFlow with the appropriate compiler flags.\n",
      "2025-10-27 10:00:08.250119: W tensorflow/compiler/tf2tensorrt/utils/py_utils.cc:38] TF-TRT Warning: Could not find TensorRT\n"
     ]
    }
   ],
   "execution_count": 12
  },
  {
   "cell_type": "code",
   "metadata": {
    "ExecuteTime": {
     "end_time": "2025-10-27T04:30:09.045154Z",
     "start_time": "2025-10-27T04:30:08.765074Z"
    }
   },
   "source": [
    "# Build the model\n",
    "model = Sequential([\n",
    "    Dense(64, activation='relu', input_shape=(X_train.shape[1],)),\n",
    "    Dense(32, activation='relu'),\n",
    "    Dense(1)  # Output layer for regression\n",
    "])\n",
    "\n",
    "## compile the model\n",
    "model.compile(optimizer='adam',loss='mean_absolute_error',metrics=['mae'])\n",
    "\n",
    "model.summary()"
   ],
   "outputs": [
    {
     "name": "stdout",
     "output_type": "stream",
     "text": [
      "Model: \"sequential\"\n",
      "_________________________________________________________________\n",
      " Layer (type)                Output Shape              Param #   \n",
      "=================================================================\n",
      " dense (Dense)               (None, 64)                832       \n",
      "                                                                 \n",
      " dense_1 (Dense)             (None, 32)                2080      \n",
      "                                                                 \n",
      " dense_2 (Dense)             (None, 1)                 33        \n",
      "                                                                 \n",
      "=================================================================\n",
      "Total params: 2945 (11.50 KB)\n",
      "Trainable params: 2945 (11.50 KB)\n",
      "Non-trainable params: 0 (0.00 Byte)\n",
      "_________________________________________________________________\n"
     ]
    },
    {
     "name": "stderr",
     "output_type": "stream",
     "text": [
      "2025-10-27 10:00:08.970078: I external/local_xla/xla/stream_executor/cuda/cuda_executor.cc:901] successful NUMA node read from SysFS had negative value (-1), but there must be at least one NUMA node, so returning NUMA node zero. See more at https://github.com/torvalds/linux/blob/v6.0/Documentation/ABI/testing/sysfs-bus-pci#L344-L355\n",
      "2025-10-27 10:00:08.973446: W tensorflow/core/common_runtime/gpu/gpu_device.cc:2256] Cannot dlopen some GPU libraries. Please make sure the missing libraries mentioned above are installed properly if you would like to use GPU. Follow the guide at https://www.tensorflow.org/install/gpu for how to download and setup the required libraries for your platform.\n",
      "Skipping registering GPU devices...\n"
     ]
    }
   ],
   "execution_count": 13
  },
  {
   "cell_type": "code",
   "metadata": {
    "ExecuteTime": {
     "end_time": "2025-10-27T04:30:09.084145Z",
     "start_time": "2025-10-27T04:30:09.072162Z"
    }
   },
   "source": [
    "from tensorflow.keras.callbacks import EarlyStopping, TensorBoard\n",
    "import datetime\n",
    "\n",
    "# Set up TensorBoard\n",
    "log_dir = \"regressionlogs/fit/\" + datetime.datetime.now().strftime(\"%Y%m%d-%H%M%S\")\n",
    "tensorboard_callback = TensorBoard(log_dir=log_dir, histogram_freq=1)"
   ],
   "outputs": [],
   "execution_count": 14
  },
  {
   "cell_type": "code",
   "metadata": {
    "ExecuteTime": {
     "end_time": "2025-10-27T04:30:09.120647Z",
     "start_time": "2025-10-27T04:30:09.118707Z"
    }
   },
   "source": [
    "# Set up Early Stopping\n",
    "early_stopping_callback = EarlyStopping(monitor='val_loss', patience=10, restore_best_weights=True)\n"
   ],
   "outputs": [],
   "execution_count": 15
  },
  {
   "cell_type": "code",
   "metadata": {
    "ExecuteTime": {
     "end_time": "2025-10-27T04:30:26.229175Z",
     "start_time": "2025-10-27T04:30:09.166265Z"
    }
   },
   "source": [
    "# Train the model\n",
    "history = model.fit(\n",
    "    X_train, y_train,\n",
    "    validation_data=(X_test, y_test),\n",
    "    epochs=100,\n",
    "    callbacks=[early_stopping_callback, tensorboard_callback]\n",
    ")"
   ],
   "outputs": [
    {
     "name": "stdout",
     "output_type": "stream",
     "text": [
      "Epoch 1/100\n",
      "250/250 [==============================] - 1s 1ms/step - loss: 100390.3281 - mae: 100390.3281 - val_loss: 98565.9844 - val_mae: 98565.9844\n",
      "Epoch 2/100\n",
      "250/250 [==============================] - 0s 898us/step - loss: 99811.9844 - mae: 99811.9844 - val_loss: 97380.6562 - val_mae: 97380.6562\n",
      "Epoch 3/100\n",
      "250/250 [==============================] - 0s 940us/step - loss: 97717.9922 - mae: 97717.9922 - val_loss: 94273.3594 - val_mae: 94273.3594\n",
      "Epoch 4/100\n",
      "250/250 [==============================] - 0s 1ms/step - loss: 93494.2266 - mae: 93494.2266 - val_loss: 88918.1328 - val_mae: 88918.1328\n",
      "Epoch 5/100\n",
      "250/250 [==============================] - 0s 913us/step - loss: 87135.2344 - mae: 87135.2344 - val_loss: 81720.6328 - val_mae: 81720.6328\n",
      "Epoch 6/100\n",
      "250/250 [==============================] - 0s 1ms/step - loss: 79240.2109 - mae: 79240.2109 - val_loss: 73693.9219 - val_mae: 73693.9219\n",
      "Epoch 7/100\n",
      "250/250 [==============================] - 0s 1ms/step - loss: 71031.7578 - mae: 71031.7578 - val_loss: 66159.4375 - val_mae: 66159.4375\n",
      "Epoch 8/100\n",
      "250/250 [==============================] - 0s 1ms/step - loss: 63678.3438 - mae: 63678.3438 - val_loss: 59821.7461 - val_mae: 59821.7461\n",
      "Epoch 9/100\n",
      "250/250 [==============================] - 0s 1ms/step - loss: 58048.8281 - mae: 58048.8281 - val_loss: 55509.3867 - val_mae: 55509.3867\n",
      "Epoch 10/100\n",
      "250/250 [==============================] - 0s 1ms/step - loss: 54461.5352 - mae: 54461.5352 - val_loss: 53019.6797 - val_mae: 53019.6797\n",
      "Epoch 11/100\n",
      "250/250 [==============================] - 0s 1ms/step - loss: 52470.8242 - mae: 52470.8242 - val_loss: 51762.2461 - val_mae: 51762.2461\n",
      "Epoch 12/100\n",
      "250/250 [==============================] - 0s 902us/step - loss: 51394.0312 - mae: 51394.0312 - val_loss: 51146.3164 - val_mae: 51146.3164\n",
      "Epoch 13/100\n",
      "250/250 [==============================] - 0s 987us/step - loss: 50865.7383 - mae: 50865.7383 - val_loss: 50900.0625 - val_mae: 50900.0625\n",
      "Epoch 14/100\n",
      "250/250 [==============================] - 0s 966us/step - loss: 50598.3867 - mae: 50598.3867 - val_loss: 50780.4141 - val_mae: 50780.4141\n",
      "Epoch 15/100\n",
      "250/250 [==============================] - 0s 883us/step - loss: 50442.9570 - mae: 50442.9570 - val_loss: 50707.0469 - val_mae: 50707.0469\n",
      "Epoch 16/100\n",
      "250/250 [==============================] - 0s 873us/step - loss: 50329.8672 - mae: 50329.8672 - val_loss: 50645.3984 - val_mae: 50645.3984\n",
      "Epoch 17/100\n",
      "250/250 [==============================] - 0s 982us/step - loss: 50245.5625 - mae: 50245.5625 - val_loss: 50589.0156 - val_mae: 50589.0156\n",
      "Epoch 18/100\n",
      "250/250 [==============================] - 0s 864us/step - loss: 50179.9922 - mae: 50179.9922 - val_loss: 50552.4492 - val_mae: 50552.4492\n",
      "Epoch 19/100\n",
      "250/250 [==============================] - 0s 924us/step - loss: 50122.6367 - mae: 50122.6367 - val_loss: 50513.1328 - val_mae: 50513.1328\n",
      "Epoch 20/100\n",
      "250/250 [==============================] - 0s 915us/step - loss: 50077.0859 - mae: 50077.0859 - val_loss: 50488.3477 - val_mae: 50488.3477\n",
      "Epoch 21/100\n",
      "250/250 [==============================] - 0s 901us/step - loss: 50036.5781 - mae: 50036.5781 - val_loss: 50456.6875 - val_mae: 50456.6875\n",
      "Epoch 22/100\n",
      "250/250 [==============================] - 0s 979us/step - loss: 50002.3789 - mae: 50002.3789 - val_loss: 50435.4414 - val_mae: 50435.4414\n",
      "Epoch 23/100\n",
      "250/250 [==============================] - 0s 915us/step - loss: 49969.6797 - mae: 49969.6797 - val_loss: 50405.2461 - val_mae: 50405.2461\n",
      "Epoch 24/100\n",
      "250/250 [==============================] - 0s 938us/step - loss: 49937.4727 - mae: 49937.4727 - val_loss: 50386.1055 - val_mae: 50386.1055\n",
      "Epoch 25/100\n",
      "250/250 [==============================] - 0s 976us/step - loss: 49910.6406 - mae: 49910.6406 - val_loss: 50363.0703 - val_mae: 50363.0703\n",
      "Epoch 26/100\n",
      "250/250 [==============================] - 0s 932us/step - loss: 49883.6797 - mae: 49883.6797 - val_loss: 50346.6133 - val_mae: 50346.6133\n",
      "Epoch 27/100\n",
      "250/250 [==============================] - 0s 957us/step - loss: 49861.0859 - mae: 49861.0859 - val_loss: 50335.7969 - val_mae: 50335.7969\n",
      "Epoch 28/100\n",
      "250/250 [==============================] - 0s 1ms/step - loss: 49834.0352 - mae: 49834.0352 - val_loss: 50317.4961 - val_mae: 50317.4961\n",
      "Epoch 29/100\n",
      "250/250 [==============================] - 0s 955us/step - loss: 49813.7852 - mae: 49813.7852 - val_loss: 50305.9922 - val_mae: 50305.9922\n",
      "Epoch 30/100\n",
      "250/250 [==============================] - 0s 987us/step - loss: 49790.1523 - mae: 49790.1523 - val_loss: 50284.2070 - val_mae: 50284.2070\n",
      "Epoch 31/100\n",
      "250/250 [==============================] - 0s 1ms/step - loss: 49772.5508 - mae: 49772.5508 - val_loss: 50286.3867 - val_mae: 50286.3867\n",
      "Epoch 32/100\n",
      "250/250 [==============================] - 0s 923us/step - loss: 49751.8086 - mae: 49751.8086 - val_loss: 50275.1172 - val_mae: 50275.1172\n",
      "Epoch 33/100\n",
      "250/250 [==============================] - 0s 884us/step - loss: 49737.3594 - mae: 49737.3594 - val_loss: 50273.8203 - val_mae: 50273.8203\n",
      "Epoch 34/100\n",
      "250/250 [==============================] - 0s 1ms/step - loss: 49717.4766 - mae: 49717.4766 - val_loss: 50255.6914 - val_mae: 50255.6914\n",
      "Epoch 35/100\n",
      "250/250 [==============================] - 0s 1ms/step - loss: 49701.5391 - mae: 49701.5391 - val_loss: 50257.3789 - val_mae: 50257.3789\n",
      "Epoch 36/100\n",
      "250/250 [==============================] - 0s 1ms/step - loss: 49686.4766 - mae: 49686.4766 - val_loss: 50243.3867 - val_mae: 50243.3867\n",
      "Epoch 37/100\n",
      "250/250 [==============================] - 0s 1ms/step - loss: 49675.7070 - mae: 49675.7070 - val_loss: 50239.1211 - val_mae: 50239.1211\n",
      "Epoch 38/100\n",
      "250/250 [==============================] - 0s 1ms/step - loss: 49661.5742 - mae: 49661.5742 - val_loss: 50228.4062 - val_mae: 50228.4062\n",
      "Epoch 39/100\n",
      "250/250 [==============================] - 0s 1ms/step - loss: 49650.7812 - mae: 49650.7812 - val_loss: 50219.0078 - val_mae: 50219.0078\n",
      "Epoch 40/100\n",
      "250/250 [==============================] - 0s 891us/step - loss: 49637.6797 - mae: 49637.6797 - val_loss: 50226.1914 - val_mae: 50226.1914\n",
      "Epoch 41/100\n",
      "250/250 [==============================] - 0s 956us/step - loss: 49622.5781 - mae: 49622.5781 - val_loss: 50221.5430 - val_mae: 50221.5430\n",
      "Epoch 42/100\n",
      "250/250 [==============================] - 0s 1ms/step - loss: 49612.3438 - mae: 49612.3438 - val_loss: 50222.7852 - val_mae: 50222.7852\n",
      "Epoch 43/100\n",
      "250/250 [==============================] - 0s 1ms/step - loss: 49602.8555 - mae: 49602.8555 - val_loss: 50224.1758 - val_mae: 50224.1758\n",
      "Epoch 44/100\n",
      "250/250 [==============================] - 0s 1ms/step - loss: 49591.3359 - mae: 49591.3359 - val_loss: 50220.0664 - val_mae: 50220.0664\n",
      "Epoch 45/100\n",
      "250/250 [==============================] - 0s 899us/step - loss: 49586.6406 - mae: 49586.6406 - val_loss: 50221.5508 - val_mae: 50221.5508\n",
      "Epoch 46/100\n",
      "250/250 [==============================] - 0s 1ms/step - loss: 49575.1836 - mae: 49575.1836 - val_loss: 50221.4805 - val_mae: 50221.4805\n",
      "Epoch 47/100\n",
      "250/250 [==============================] - 0s 1ms/step - loss: 49563.1523 - mae: 49563.1523 - val_loss: 50217.9414 - val_mae: 50217.9414\n",
      "Epoch 48/100\n",
      "250/250 [==============================] - 0s 1ms/step - loss: 49555.3711 - mae: 49555.3711 - val_loss: 50212.0781 - val_mae: 50212.0781\n",
      "Epoch 49/100\n",
      "250/250 [==============================] - 0s 1ms/step - loss: 49546.7852 - mae: 49546.7852 - val_loss: 50210.0664 - val_mae: 50210.0664\n",
      "Epoch 50/100\n",
      "250/250 [==============================] - 0s 920us/step - loss: 49537.7227 - mae: 49537.7227 - val_loss: 50215.5586 - val_mae: 50215.5586\n",
      "Epoch 51/100\n",
      "250/250 [==============================] - 0s 906us/step - loss: 49529.7930 - mae: 49529.7930 - val_loss: 50214.5742 - val_mae: 50214.5742\n",
      "Epoch 52/100\n",
      "250/250 [==============================] - 0s 1ms/step - loss: 49524.0547 - mae: 49524.0547 - val_loss: 50215.2734 - val_mae: 50215.2734\n",
      "Epoch 53/100\n",
      "250/250 [==============================] - 0s 920us/step - loss: 49517.7266 - mae: 49517.7266 - val_loss: 50212.5547 - val_mae: 50212.5547\n",
      "Epoch 54/100\n",
      "250/250 [==============================] - 0s 947us/step - loss: 49512.7188 - mae: 49512.7188 - val_loss: 50211.2031 - val_mae: 50211.2031\n",
      "Epoch 55/100\n",
      "250/250 [==============================] - 0s 924us/step - loss: 49501.1758 - mae: 49501.1758 - val_loss: 50214.9727 - val_mae: 50214.9727\n",
      "Epoch 56/100\n",
      "250/250 [==============================] - 0s 903us/step - loss: 49497.0469 - mae: 49497.0469 - val_loss: 50208.9023 - val_mae: 50208.9023\n",
      "Epoch 57/100\n",
      "250/250 [==============================] - 0s 994us/step - loss: 49488.1875 - mae: 49488.1875 - val_loss: 50215.4727 - val_mae: 50215.4727\n",
      "Epoch 58/100\n",
      "250/250 [==============================] - 0s 899us/step - loss: 49483.5000 - mae: 49483.5000 - val_loss: 50219.8789 - val_mae: 50219.8789\n",
      "Epoch 59/100\n",
      "250/250 [==============================] - 0s 873us/step - loss: 49477.4453 - mae: 49477.4453 - val_loss: 50218.9258 - val_mae: 50218.9258\n",
      "Epoch 60/100\n",
      "250/250 [==============================] - 0s 982us/step - loss: 49468.5742 - mae: 49468.5742 - val_loss: 50217.9492 - val_mae: 50217.9492\n",
      "Epoch 61/100\n",
      "250/250 [==============================] - 0s 899us/step - loss: 49464.3984 - mae: 49464.3984 - val_loss: 50225.9336 - val_mae: 50225.9336\n",
      "Epoch 62/100\n",
      "250/250 [==============================] - 0s 934us/step - loss: 49459.9727 - mae: 49459.9727 - val_loss: 50211.0977 - val_mae: 50211.0977\n",
      "Epoch 63/100\n",
      "250/250 [==============================] - 0s 1ms/step - loss: 49454.6797 - mae: 49454.6797 - val_loss: 50216.9023 - val_mae: 50216.9023\n",
      "Epoch 64/100\n",
      "250/250 [==============================] - 0s 913us/step - loss: 49447.3594 - mae: 49447.3594 - val_loss: 50228.7109 - val_mae: 50228.7109\n",
      "Epoch 65/100\n",
      "250/250 [==============================] - 0s 1ms/step - loss: 49442.3359 - mae: 49442.3359 - val_loss: 50211.5586 - val_mae: 50211.5586\n",
      "Epoch 66/100\n",
      "250/250 [==============================] - 0s 1ms/step - loss: 49436.5039 - mae: 49436.5039 - val_loss: 50222.3594 - val_mae: 50222.3594\n"
     ]
    }
   ],
   "execution_count": 16
  },
  {
   "cell_type": "code",
   "metadata": {
    "ExecuteTime": {
     "end_time": "2025-10-27T04:30:26.299017Z",
     "start_time": "2025-10-27T04:30:26.284441Z"
    }
   },
   "source": [
    "%load_ext tensorboard"
   ],
   "outputs": [],
   "execution_count": 17
  },
  {
   "cell_type": "code",
   "metadata": {
    "ExecuteTime": {
     "end_time": "2025-10-27T04:30:29.842574Z",
     "start_time": "2025-10-27T04:30:26.333693Z"
    }
   },
   "source": [
    "%tensorboard --logdir regressionlogs/fit"
   ],
   "outputs": [
    {
     "data": {
      "text/plain": [
       "<IPython.core.display.HTML object>"
      ],
      "text/html": [
       "\n",
       "      <iframe id=\"tensorboard-frame-6eaea2d572e797c1\" width=\"100%\" height=\"800\" frameborder=\"0\">\n",
       "      </iframe>\n",
       "      <script>\n",
       "        (function() {\n",
       "          const frame = document.getElementById(\"tensorboard-frame-6eaea2d572e797c1\");\n",
       "          const url = new URL(\"/\", window.location);\n",
       "          const port = 6006;\n",
       "          if (port) {\n",
       "            url.port = port;\n",
       "          }\n",
       "          frame.src = url;\n",
       "        })();\n",
       "      </script>\n",
       "    "
      ]
     },
     "metadata": {},
     "output_type": "display_data",
     "jetTransient": {
      "display_id": "c9d110d610888637fd4074000e0a8d35"
     }
    }
   ],
   "execution_count": 18
  },
  {
   "cell_type": "code",
   "metadata": {
    "ExecuteTime": {
     "end_time": "2025-10-27T04:30:30.809013Z",
     "start_time": "2025-10-27T04:30:30.696110Z"
    }
   },
   "source": [
    "## Evaluate model on the test data\n",
    "test_loss,test_mae=model.evaluate(X_test,y_test)\n",
    "print(f'Test MAE : {test_mae}')"
   ],
   "outputs": [
    {
     "name": "stdout",
     "output_type": "stream",
     "text": [
      "63/63 [==============================] - 0s 776us/step - loss: 50208.9023 - mae: 50208.9023\n",
      "Test MAE : 50208.90234375\n"
     ]
    }
   ],
   "execution_count": 19
  },
  {
   "cell_type": "code",
   "metadata": {
    "ExecuteTime": {
     "end_time": "2025-10-27T04:30:30.842535Z",
     "start_time": "2025-10-27T04:30:30.817681Z"
    }
   },
   "source": [
    "model.save('regression_model.h5')"
   ],
   "outputs": [
    {
     "name": "stderr",
     "output_type": "stream",
     "text": [
      "/home/krish/Downloads/Codes/AI/churn model/venv/lib/python3.11/site-packages/keras/src/engine/training.py:3103: UserWarning: You are saving your model as an HDF5 file via `model.save()`. This file format is considered legacy. We recommend using instead the native Keras format, e.g. `model.save('my_model.keras')`.\n",
      "  saving_api.save_model(\n"
     ]
    }
   ],
   "execution_count": 20
  },
  {
   "cell_type": "code",
   "metadata": {
    "ExecuteTime": {
     "end_time": "2025-10-27T04:30:30.869394Z",
     "start_time": "2025-10-27T04:30:30.867796Z"
    }
   },
   "source": [],
   "outputs": [],
   "execution_count": null
  }
 ],
 "metadata": {
  "kernelspec": {
   "display_name": "Python 3",
   "language": "python",
   "name": "python3"
  },
  "language_info": {
   "codemirror_mode": {
    "name": "ipython",
    "version": 3
   },
   "file_extension": ".py",
   "mimetype": "text/x-python",
   "name": "python",
   "nbconvert_exporter": "python",
   "pygments_lexer": "ipython3",
   "version": "3.11.0"
  }
 },
 "nbformat": 4,
 "nbformat_minor": 2
}
